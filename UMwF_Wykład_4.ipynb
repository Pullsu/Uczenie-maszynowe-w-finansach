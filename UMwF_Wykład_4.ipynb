{
  "nbformat": 4,
  "nbformat_minor": 0,
  "metadata": {
    "colab": {
      "provenance": [],
      "authorship_tag": "ABX9TyOEzfVCgJA94R0XCwOjtNMX",
      "include_colab_link": true
    },
    "kernelspec": {
      "name": "python3",
      "display_name": "Python 3"
    },
    "language_info": {
      "name": "python"
    }
  },
  "cells": [
    {
      "cell_type": "markdown",
      "metadata": {
        "id": "view-in-github",
        "colab_type": "text"
      },
      "source": [
        "<a href=\"https://colab.research.google.com/github/Pullsu/Uczenie-maszynowe-w-finansach/blob/Notatki/UMwF_Wyk%C5%82ad_4.ipynb\" target=\"_parent\"><img src=\"https://colab.research.google.com/assets/colab-badge.svg\" alt=\"Open In Colab\"/></a>"
      ]
    },
    {
      "cell_type": "markdown",
      "source": [
        "# 25.03.2024"
      ],
      "metadata": {
        "id": "RKpS0gLS5Fjy"
      }
    },
    {
      "cell_type": "code",
      "execution_count": 1,
      "metadata": {
        "id": "qrhR_m5X4EEz"
      },
      "outputs": [],
      "source": [
        "import pandas as pd\n",
        "import numpy as np\n",
        "from mlxtend.frequent_patterns import apriori, association_rules\n",
        "from mlxtend.preprocessing import TransactionEncoder"
      ]
    },
    {
      "cell_type": "code",
      "source": [
        "data=pd.read_csv('/content/GroceryStoreDataSet.csv', header=None)"
      ],
      "metadata": {
        "colab": {
          "base_uri": "https://localhost:8080/"
        },
        "id": "jPztOirc5BUC",
        "outputId": "1c0bbaa9-276a-4f1c-c74c-6378532f03b4"
      },
      "execution_count": 2,
      "outputs": [
        {
          "output_type": "stream",
          "name": "stderr",
          "text": [
            "/usr/local/lib/python3.10/dist-packages/ipykernel/ipkernel.py:283: DeprecationWarning: `should_run_async` will not call `transform_cell` automatically in the future. Please pass the result to `transformed_cell` argument and any exception that happen during thetransform in `preprocessing_exc_tuple` in IPython 7.17 and above.\n",
            "  and should_run_async(code)\n"
          ]
        }
      ]
    },
    {
      "cell_type": "code",
      "source": [
        "print(data.head())\n",
        "print(data.shape)"
      ],
      "metadata": {
        "colab": {
          "base_uri": "https://localhost:8080/"
        },
        "id": "RkO-3NOF5Rp7",
        "outputId": "bfd864d1-c7f1-449d-803c-12ea0e5631fd"
      },
      "execution_count": 3,
      "outputs": [
        {
          "output_type": "stream",
          "name": "stdout",
          "text": [
            "                               0\n",
            "0             MILK,BREAD,BISCUIT\n",
            "1  BREAD,MILK,BISCUIT,CORNFLAKES\n",
            "2            BREAD,TEA,BOURNVITA\n",
            "3           JAM,MAGGI,BREAD,MILK\n",
            "4              MAGGI,TEA,BISCUIT\n",
            "(20, 1)\n"
          ]
        },
        {
          "output_type": "stream",
          "name": "stderr",
          "text": [
            "/usr/local/lib/python3.10/dist-packages/ipykernel/ipkernel.py:283: DeprecationWarning: `should_run_async` will not call `transform_cell` automatically in the future. Please pass the result to `transformed_cell` argument and any exception that happen during thetransform in `preprocessing_exc_tuple` in IPython 7.17 and above.\n",
            "  and should_run_async(code)\n"
          ]
        }
      ]
    },
    {
      "cell_type": "code",
      "source": [
        "#items=data[0].values\n",
        "#print(items)"
      ],
      "metadata": {
        "id": "NarW32Dc6tnk"
      },
      "execution_count": null,
      "outputs": []
    },
    {
      "cell_type": "code",
      "source": [
        "## from re import encoder\n",
        "transactions=[]\n",
        "items=data[0].values\n",
        "print(items)\n",
        "for i in range (0,len(items)):\n",
        "    transactions.append(items[i].split(\",\"))\n",
        "\n",
        "te = TransactionEncoder()\n",
        "te_data = te.fit_transform(transactions)\n",
        "print(te.columns_)\n",
        "print(te_data)\n",
        "\n",
        "dataTE=pd.DataFrame(data = te_data, columns = te.columns_, dtype = int)\n",
        "print(dataTE)"
      ],
      "metadata": {
        "colab": {
          "base_uri": "https://localhost:8080/"
        },
        "id": "sg8aI7ZW5Yub",
        "outputId": "a46c705f-d5f7-4940-f178-1df8d8ebdcf9"
      },
      "execution_count": 7,
      "outputs": [
        {
          "output_type": "stream",
          "name": "stdout",
          "text": [
            "['MILK,BREAD,BISCUIT' 'BREAD,MILK,BISCUIT,CORNFLAKES'\n",
            " 'BREAD,TEA,BOURNVITA' 'JAM,MAGGI,BREAD,MILK' 'MAGGI,TEA,BISCUIT'\n",
            " 'BREAD,TEA,BOURNVITA' 'MAGGI,TEA,CORNFLAKES' 'MAGGI,BREAD,TEA,BISCUIT'\n",
            " 'JAM,MAGGI,BREAD,TEA' 'BREAD,MILK' 'COFFEE,COCK,BISCUIT,CORNFLAKES'\n",
            " 'COFFEE,COCK,BISCUIT,CORNFLAKES' 'COFFEE,SUGER,BOURNVITA'\n",
            " 'BREAD,COFFEE,COCK' 'BREAD,SUGER,BISCUIT' 'COFFEE,SUGER,CORNFLAKES'\n",
            " 'BREAD,SUGER,BOURNVITA' 'BREAD,COFFEE,SUGER' 'BREAD,COFFEE,SUGER'\n",
            " 'TEA,MILK,COFFEE,CORNFLAKES']\n",
            "['BISCUIT', 'BOURNVITA', 'BREAD', 'COCK', 'COFFEE', 'CORNFLAKES', 'JAM', 'MAGGI', 'MILK', 'SUGER', 'TEA']\n",
            "[[ True False  True False False False False False  True False False]\n",
            " [ True False  True False False  True False False  True False False]\n",
            " [False  True  True False False False False False False False  True]\n",
            " [False False  True False False False  True  True  True False False]\n",
            " [ True False False False False False False  True False False  True]\n",
            " [False  True  True False False False False False False False  True]\n",
            " [False False False False False  True False  True False False  True]\n",
            " [ True False  True False False False False  True False False  True]\n",
            " [False False  True False False False  True  True False False  True]\n",
            " [False False  True False False False False False  True False False]\n",
            " [ True False False  True  True  True False False False False False]\n",
            " [ True False False  True  True  True False False False False False]\n",
            " [False  True False False  True False False False False  True False]\n",
            " [False False  True  True  True False False False False False False]\n",
            " [ True False  True False False False False False False  True False]\n",
            " [False False False False  True  True False False False  True False]\n",
            " [False  True  True False False False False False False  True False]\n",
            " [False False  True False  True False False False False  True False]\n",
            " [False False  True False  True False False False False  True False]\n",
            " [False False False False  True  True False False  True False  True]]\n",
            "    BISCUIT  BOURNVITA  BREAD  COCK  COFFEE  CORNFLAKES  JAM  MAGGI  MILK  \\\n",
            "0         1          0      1     0       0           0    0      0     1   \n",
            "1         1          0      1     0       0           1    0      0     1   \n",
            "2         0          1      1     0       0           0    0      0     0   \n",
            "3         0          0      1     0       0           0    1      1     1   \n",
            "4         1          0      0     0       0           0    0      1     0   \n",
            "5         0          1      1     0       0           0    0      0     0   \n",
            "6         0          0      0     0       0           1    0      1     0   \n",
            "7         1          0      1     0       0           0    0      1     0   \n",
            "8         0          0      1     0       0           0    1      1     0   \n",
            "9         0          0      1     0       0           0    0      0     1   \n",
            "10        1          0      0     1       1           1    0      0     0   \n",
            "11        1          0      0     1       1           1    0      0     0   \n",
            "12        0          1      0     0       1           0    0      0     0   \n",
            "13        0          0      1     1       1           0    0      0     0   \n",
            "14        1          0      1     0       0           0    0      0     0   \n",
            "15        0          0      0     0       1           1    0      0     0   \n",
            "16        0          1      1     0       0           0    0      0     0   \n",
            "17        0          0      1     0       1           0    0      0     0   \n",
            "18        0          0      1     0       1           0    0      0     0   \n",
            "19        0          0      0     0       1           1    0      0     1   \n",
            "\n",
            "    SUGER  TEA  \n",
            "0       0    0  \n",
            "1       0    0  \n",
            "2       0    1  \n",
            "3       0    0  \n",
            "4       0    1  \n",
            "5       0    1  \n",
            "6       0    1  \n",
            "7       0    1  \n",
            "8       0    1  \n",
            "9       0    0  \n",
            "10      0    0  \n",
            "11      0    0  \n",
            "12      1    0  \n",
            "13      0    0  \n",
            "14      1    0  \n",
            "15      1    0  \n",
            "16      1    0  \n",
            "17      1    0  \n",
            "18      1    0  \n",
            "19      0    1  \n"
          ]
        },
        {
          "output_type": "stream",
          "name": "stderr",
          "text": [
            "/usr/local/lib/python3.10/dist-packages/ipykernel/ipkernel.py:283: DeprecationWarning: `should_run_async` will not call `transform_cell` automatically in the future. Please pass the result to `transformed_cell` argument and any exception that happen during thetransform in `preprocessing_exc_tuple` in IPython 7.17 and above.\n",
            "  and should_run_async(code)\n"
          ]
        }
      ]
    },
    {
      "cell_type": "code",
      "source": [
        "support=apriori(dataTE, min_support=0.15, use_colnames=True).sort_values(by = \"support\", ascending = False)\n",
        "print(support)"
      ],
      "metadata": {
        "colab": {
          "base_uri": "https://localhost:8080/"
        },
        "id": "p048c-487lDx",
        "outputId": "645d2e24-e429-4023-b39e-231842006713"
      },
      "execution_count": 8,
      "outputs": [
        {
          "output_type": "stream",
          "name": "stdout",
          "text": [
            "    support               itemsets\n",
            "2      0.65                (BREAD)\n",
            "4      0.40               (COFFEE)\n",
            "0      0.35              (BISCUIT)\n",
            "9      0.35                  (TEA)\n",
            "5      0.30           (CORNFLAKES)\n",
            "8      0.30                (SUGER)\n",
            "6      0.25                (MAGGI)\n",
            "7      0.25                 (MILK)\n",
            "15     0.20          (BREAD, MILK)\n",
            "20     0.20        (SUGER, COFFEE)\n",
            "19     0.20   (CORNFLAKES, COFFEE)\n",
            "17     0.20           (BREAD, TEA)\n",
            "16     0.20         (BREAD, SUGER)\n",
            "21     0.20           (TEA, MAGGI)\n",
            "1      0.20            (BOURNVITA)\n",
            "10     0.20       (BREAD, BISCUIT)\n",
            "14     0.15         (BREAD, MAGGI)\n",
            "13     0.15        (BREAD, COFFEE)\n",
            "12     0.15     (BOURNVITA, BREAD)\n",
            "18     0.15         (COFFEE, COCK)\n",
            "3      0.15                 (COCK)\n",
            "11     0.15  (CORNFLAKES, BISCUIT)\n"
          ]
        },
        {
          "output_type": "stream",
          "name": "stderr",
          "text": [
            "/usr/local/lib/python3.10/dist-packages/ipykernel/ipkernel.py:283: DeprecationWarning: `should_run_async` will not call `transform_cell` automatically in the future. Please pass the result to `transformed_cell` argument and any exception that happen during thetransform in `preprocessing_exc_tuple` in IPython 7.17 and above.\n",
            "  and should_run_async(code)\n",
            "/usr/local/lib/python3.10/dist-packages/mlxtend/frequent_patterns/fpcommon.py:110: DeprecationWarning: DataFrames with non-bool types result in worse computationalperformance and their support might be discontinued in the future.Please use a DataFrame with bool type\n",
            "  warnings.warn(\n"
          ]
        }
      ]
    },
    {
      "cell_type": "markdown",
      "source": [
        "Tworzenie reguły - na podstawie częstości wyżej budujemy regułę. W pierwszej kolumnie jest początek a w drugiej  koniec reguły. Jeśli ktoś kupił coś z pierwszej kolumny to prawd tez z drugiej. Na końcu są metryki"
      ],
      "metadata": {
        "id": "M1OJVAsF9rgC"
      }
    },
    {
      "cell_type": "code",
      "source": [
        "conf = association_rules(support, metric = 'confidence', min_threshold=0.15).sort_values(by = \"confidence\", ascending = False)\n",
        "print(conf) # Para o największej ufności - COCK --> COFFEE\n"
      ],
      "metadata": {
        "colab": {
          "base_uri": "https://localhost:8080/"
        },
        "id": "mqPNpkka8YqC",
        "outputId": "b532c5d2-6721-4828-d9e4-42bd88bf15a9"
      },
      "execution_count": 10,
      "outputs": [
        {
          "output_type": "stream",
          "name": "stdout",
          "text": [
            "     antecedents   consequents  antecedent support  consequent support  \\\n",
            "21        (COCK)      (COFFEE)                0.15                0.40   \n",
            "11       (MAGGI)         (TEA)                0.25                0.35   \n",
            "1         (MILK)       (BREAD)                0.25                0.65   \n",
            "18   (BOURNVITA)       (BREAD)                0.20                0.65   \n",
            "4   (CORNFLAKES)      (COFFEE)                0.30                0.40   \n",
            "9        (SUGER)       (BREAD)                0.30                0.65   \n",
            "2        (SUGER)      (COFFEE)                0.30                0.40   \n",
            "15       (MAGGI)       (BREAD)                0.25                0.65   \n",
            "7          (TEA)       (BREAD)                0.35                0.65   \n",
            "10         (TEA)       (MAGGI)                0.35                0.25   \n",
            "13     (BISCUIT)       (BREAD)                0.35                0.65   \n",
            "5       (COFFEE)  (CORNFLAKES)                0.40                0.30   \n",
            "22  (CORNFLAKES)     (BISCUIT)                0.30                0.35   \n",
            "3       (COFFEE)       (SUGER)                0.40                0.30   \n",
            "23     (BISCUIT)  (CORNFLAKES)                0.35                0.30   \n",
            "17      (COFFEE)       (BREAD)                0.40                0.65   \n",
            "20      (COFFEE)        (COCK)                0.40                0.15   \n",
            "0        (BREAD)        (MILK)                0.65                0.25   \n",
            "8        (BREAD)       (SUGER)                0.65                0.30   \n",
            "6        (BREAD)         (TEA)                0.65                0.35   \n",
            "12       (BREAD)     (BISCUIT)                0.65                0.35   \n",
            "16       (BREAD)      (COFFEE)                0.65                0.40   \n",
            "19       (BREAD)   (BOURNVITA)                0.65                0.20   \n",
            "14       (BREAD)       (MAGGI)                0.65                0.25   \n",
            "\n",
            "    support  confidence      lift  leverage  conviction  zhangs_metric  \n",
            "21     0.15    1.000000  2.500000    0.0900         inf       0.705882  \n",
            "11     0.20    0.800000  2.285714    0.1125    3.250000       0.750000  \n",
            "1      0.20    0.800000  1.230769    0.0375    1.750000       0.250000  \n",
            "18     0.15    0.750000  1.153846    0.0200    1.400000       0.166667  \n",
            "4      0.20    0.666667  1.666667    0.0800    1.800000       0.571429  \n",
            "9      0.20    0.666667  1.025641    0.0050    1.050000       0.035714  \n",
            "2      0.20    0.666667  1.666667    0.0800    1.800000       0.571429  \n",
            "15     0.15    0.600000  0.923077   -0.0125    0.875000      -0.100000  \n",
            "7      0.20    0.571429  0.879121   -0.0275    0.816667      -0.174603  \n",
            "10     0.20    0.571429  2.285714    0.1125    1.750000       0.865385  \n",
            "13     0.20    0.571429  0.879121   -0.0275    0.816667      -0.174603  \n",
            "5      0.20    0.500000  1.666667    0.0800    1.400000       0.666667  \n",
            "22     0.15    0.500000  1.428571    0.0450    1.300000       0.428571  \n",
            "3      0.20    0.500000  1.666667    0.0800    1.400000       0.666667  \n",
            "23     0.15    0.428571  1.428571    0.0450    1.225000       0.461538  \n",
            "17     0.15    0.375000  0.576923   -0.1100    0.560000      -0.550000  \n",
            "20     0.15    0.375000  2.500000    0.0900    1.360000       1.000000  \n",
            "0      0.20    0.307692  1.230769    0.0375    1.083333       0.535714  \n",
            "8      0.20    0.307692  1.025641    0.0050    1.011111       0.071429  \n",
            "6      0.20    0.307692  0.879121   -0.0275    0.938889      -0.282051  \n",
            "12     0.20    0.307692  0.879121   -0.0275    0.938889      -0.282051  \n",
            "16     0.15    0.230769  0.576923   -0.1100    0.780000      -0.676923  \n",
            "19     0.15    0.230769  1.153846    0.0200    1.040000       0.380952  \n",
            "14     0.15    0.230769  0.923077   -0.0125    0.975000      -0.192308  \n"
          ]
        },
        {
          "output_type": "stream",
          "name": "stderr",
          "text": [
            "/usr/local/lib/python3.10/dist-packages/ipykernel/ipkernel.py:283: DeprecationWarning: `should_run_async` will not call `transform_cell` automatically in the future. Please pass the result to `transformed_cell` argument and any exception that happen during thetransform in `preprocessing_exc_tuple` in IPython 7.17 and above.\n",
            "  and should_run_async(code)\n"
          ]
        }
      ]
    },
    {
      "cell_type": "code",
      "source": [
        "lift = association_rules(support, metric = 'lift', min_threshold=0.15).sort_values(by = \"lift\", ascending = False)\n",
        "print(lift) # Pary o największym wzroście (lift) - COCK --> COFFEE oraz COFFEE --> COCK"
      ],
      "metadata": {
        "colab": {
          "base_uri": "https://localhost:8080/"
        },
        "id": "DULgJgnp9iAT",
        "outputId": "700f3d6f-1ea4-4a49-ed80-8e874f42e80a"
      },
      "execution_count": 18,
      "outputs": [
        {
          "output_type": "stream",
          "name": "stdout",
          "text": [
            "     antecedents   consequents  antecedent support  consequent support  \\\n",
            "21        (COCK)      (COFFEE)                0.15                0.40   \n",
            "20      (COFFEE)        (COCK)                0.40                0.15   \n",
            "11       (MAGGI)         (TEA)                0.25                0.35   \n",
            "10         (TEA)       (MAGGI)                0.35                0.25   \n",
            "2        (SUGER)      (COFFEE)                0.30                0.40   \n",
            "3       (COFFEE)       (SUGER)                0.40                0.30   \n",
            "4   (CORNFLAKES)      (COFFEE)                0.30                0.40   \n",
            "5       (COFFEE)  (CORNFLAKES)                0.40                0.30   \n",
            "23     (BISCUIT)  (CORNFLAKES)                0.35                0.30   \n",
            "22  (CORNFLAKES)     (BISCUIT)                0.30                0.35   \n",
            "1         (MILK)       (BREAD)                0.25                0.65   \n",
            "0        (BREAD)        (MILK)                0.65                0.25   \n",
            "18   (BOURNVITA)       (BREAD)                0.20                0.65   \n",
            "19       (BREAD)   (BOURNVITA)                0.65                0.20   \n",
            "9        (SUGER)       (BREAD)                0.30                0.65   \n",
            "8        (BREAD)       (SUGER)                0.65                0.30   \n",
            "14       (BREAD)       (MAGGI)                0.65                0.25   \n",
            "15       (MAGGI)       (BREAD)                0.25                0.65   \n",
            "13     (BISCUIT)       (BREAD)                0.35                0.65   \n",
            "7          (TEA)       (BREAD)                0.35                0.65   \n",
            "6        (BREAD)         (TEA)                0.65                0.35   \n",
            "12       (BREAD)     (BISCUIT)                0.65                0.35   \n",
            "16       (BREAD)      (COFFEE)                0.65                0.40   \n",
            "17      (COFFEE)       (BREAD)                0.40                0.65   \n",
            "\n",
            "    support  confidence      lift  leverage  conviction  zhangs_metric  \n",
            "21     0.15    1.000000  2.500000    0.0900         inf       0.705882  \n",
            "20     0.15    0.375000  2.500000    0.0900    1.360000       1.000000  \n",
            "11     0.20    0.800000  2.285714    0.1125    3.250000       0.750000  \n",
            "10     0.20    0.571429  2.285714    0.1125    1.750000       0.865385  \n",
            "2      0.20    0.666667  1.666667    0.0800    1.800000       0.571429  \n",
            "3      0.20    0.500000  1.666667    0.0800    1.400000       0.666667  \n",
            "4      0.20    0.666667  1.666667    0.0800    1.800000       0.571429  \n",
            "5      0.20    0.500000  1.666667    0.0800    1.400000       0.666667  \n",
            "23     0.15    0.428571  1.428571    0.0450    1.225000       0.461538  \n",
            "22     0.15    0.500000  1.428571    0.0450    1.300000       0.428571  \n",
            "1      0.20    0.800000  1.230769    0.0375    1.750000       0.250000  \n",
            "0      0.20    0.307692  1.230769    0.0375    1.083333       0.535714  \n",
            "18     0.15    0.750000  1.153846    0.0200    1.400000       0.166667  \n",
            "19     0.15    0.230769  1.153846    0.0200    1.040000       0.380952  \n",
            "9      0.20    0.666667  1.025641    0.0050    1.050000       0.035714  \n",
            "8      0.20    0.307692  1.025641    0.0050    1.011111       0.071429  \n",
            "14     0.15    0.230769  0.923077   -0.0125    0.975000      -0.192308  \n",
            "15     0.15    0.600000  0.923077   -0.0125    0.875000      -0.100000  \n",
            "13     0.20    0.571429  0.879121   -0.0275    0.816667      -0.174603  \n",
            "7      0.20    0.571429  0.879121   -0.0275    0.816667      -0.174603  \n",
            "6      0.20    0.307692  0.879121   -0.0275    0.938889      -0.282051  \n",
            "12     0.20    0.307692  0.879121   -0.0275    0.938889      -0.282051  \n",
            "16     0.15    0.230769  0.576923   -0.1100    0.780000      -0.676923  \n",
            "17     0.15    0.375000  0.576923   -0.1100    0.560000      -0.550000  \n"
          ]
        },
        {
          "output_type": "stream",
          "name": "stderr",
          "text": [
            "/usr/local/lib/python3.10/dist-packages/ipykernel/ipkernel.py:283: DeprecationWarning: `should_run_async` will not call `transform_cell` automatically in the future. Please pass the result to `transformed_cell` argument and any exception that happen during thetransform in `preprocessing_exc_tuple` in IPython 7.17 and above.\n",
            "  and should_run_async(code)\n"
          ]
        }
      ]
    }
  ]
}