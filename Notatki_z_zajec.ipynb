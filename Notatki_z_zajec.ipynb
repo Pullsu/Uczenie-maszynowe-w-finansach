{
  "nbformat": 4,
  "nbformat_minor": 0,
  "metadata": {
    "colab": {
      "provenance": [],
      "authorship_tag": "ABX9TyOV60xodZXcgGwuy/HhBlIJ",
      "include_colab_link": true
    },
    "kernelspec": {
      "name": "python3",
      "display_name": "Python 3"
    },
    "language_info": {
      "name": "python"
    }
  },
  "cells": [
    {
      "cell_type": "markdown",
      "metadata": {
        "id": "view-in-github",
        "colab_type": "text"
      },
      "source": [
        "<a href=\"https://colab.research.google.com/github/Pullsu/Uczenie-maszynowe-w-finansach/blob/Notatki/Notatki_z_zajec.ipynb\" target=\"_parent\"><img src=\"https://colab.research.google.com/assets/colab-badge.svg\" alt=\"Open In Colab\"/></a>"
      ]
    },
    {
      "cell_type": "markdown",
      "source": [
        "## Notatki 04.03.2024"
      ],
      "metadata": {
        "id": "pNSdYYU4xJ0s"
      }
    },
    {
      "cell_type": "code",
      "execution_count": null,
      "metadata": {
        "id": "FS3ExFR7wFMu"
      },
      "outputs": [],
      "source": []
    }
  ]
}